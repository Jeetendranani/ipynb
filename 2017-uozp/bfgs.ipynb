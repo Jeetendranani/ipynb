{
 "cells": [
  {
   "cell_type": "code",
   "execution_count": 1,
   "metadata": {},
   "outputs": [],
   "source": [
    "import numpy as np\n",
    "from scipy.optimize import fmin_l_bfgs_b\n",
    "import matplotlib.pyplot as plt\n",
    "%matplotlib inline"
   ]
  },
  {
   "cell_type": "markdown",
   "metadata": {},
   "source": [
    "# Minimum funkcije in algoritem BFGS"
   ]
  },
  {
   "cell_type": "markdown",
   "metadata": {},
   "source": [
    "Iščemo mimum funkcije $(\\theta_0-2)^2+(\\theta_1-3)^2-42$. Funkcijo in njen gradient zapišemo tako, da ima kot parametre vektor $\\theta$."
   ]
  },
  {
   "cell_type": "code",
   "execution_count": 2,
   "metadata": {},
   "outputs": [],
   "source": [
    "def cost(theta):\n",
    "    return (theta[0]-2)**2 + (theta[1]-3)**2 - 42\n",
    "\n",
    "def grad(theta):\n",
    "    return np.array([2*(theta[0]-2), 2*(theta[1]-3)])"
   ]
  },
  {
   "cell_type": "code",
   "execution_count": 3,
   "metadata": {},
   "outputs": [
    {
     "data": {
      "text/plain": [
       "(-29, array([-4, -6]))"
      ]
     },
     "execution_count": 3,
     "metadata": {},
     "output_type": "execute_result"
    }
   ],
   "source": [
    "theta = np.array([0, 0])\n",
    "cost(theta), grad(theta)"
   ]
  },
  {
   "cell_type": "markdown",
   "metadata": {},
   "source": [
    "Za iskanje minimuma uporabimo funkcijo ```fmin_l_bfgs_b``` ki implementira algoritem [Broyden–Fletcher–Goldfarb–Shanno z omejenim spominom](https://en.wikipedia.org/wiki/Limited-memory_BFGS)."
   ]
  },
  {
   "cell_type": "code",
   "execution_count": 4,
   "metadata": {},
   "outputs": [
    {
     "data": {
      "text/plain": [
       "(array([ 2.,  3.]),\n",
       " -42.0,\n",
       " {'funcalls': 3,\n",
       "  'grad': array([ 0.,  0.]),\n",
       "  'nit': 2,\n",
       "  'task': b'CONVERGENCE: NORM_OF_PROJECTED_GRADIENT_<=_PGTOL',\n",
       "  'warnflag': 0})"
      ]
     },
     "execution_count": 4,
     "metadata": {},
     "output_type": "execute_result"
    }
   ],
   "source": [
    "theta0 = np.array([0, 0])\n",
    "res = fmin_l_bfgs_b(cost, theta0, grad)\n",
    "res"
   ]
  },
  {
   "cell_type": "markdown",
   "metadata": {},
   "source": [
    "Rezultati se ujemajo s pričakovanji. Naša cenovna funkcija ima minimum v točki [2, 3], vrednost funkcije v tej točki je -17, konvergenca algoritma pa je izjemno hitra, saj je postopek našel minimum s samo tremi klici kriterijske funkcije in njenega gradienta."
   ]
  },
  {
   "cell_type": "markdown",
   "metadata": {},
   "source": [
    "# Metoda končnih razlik"
   ]
  },
  {
   "cell_type": "markdown",
   "metadata": {},
   "source": [
    "Vedno je dobro preveriti, ali smo funkcijo, ki izračuna gradient, implementirali pravilno oziroma ali je analitična rešitev (izračun gradienta). Analitično izračunani in implementirani gradient kriterijske funkcije lahko primerjamo z  gradientom, ki ga izračunamo z metodo končnih razlik. Gradient računamo pri izbrani vrednosti parametrov $\\theta$. Če bi imeli opravka s funkcijo enega samega parametra, bi z metodo končnih razlik odvod ocenili kot $f((\\theta+\\epsilon)-f(\\theta-\\epsilon)/(2\\epsilon)$. Ker pa imamo opravka s kriterijsko funkcijo več parametrov ($\\Theta$ je vektor), njene parcialne odvode izračunamo tako, da vsakič spreminjamo enega izmed parametrov."
   ]
  },
  {
   "cell_type": "code",
   "execution_count": 5,
   "metadata": {},
   "outputs": [],
   "source": [
    "def grad_approx(f, theta, e=1e-3):\n",
    "    return np.array([(f(theta+eps) - f(theta-eps))/(2*e)\n",
    "                     for eps in np.identity(len(theta)) * e])"
   ]
  },
  {
   "cell_type": "code",
   "execution_count": 6,
   "metadata": {},
   "outputs": [
    {
     "data": {
      "text/plain": [
       "(array([-4., -6.]), array([-4, -6]))"
      ]
     },
     "execution_count": 6,
     "metadata": {},
     "output_type": "execute_result"
    }
   ],
   "source": [
    "grad_approx(cost, theta0), grad(theta0)"
   ]
  },
  {
   "cell_type": "markdown",
   "metadata": {},
   "source": [
    "Dela! Gradienta sta enaka. Seveda bo pri bolj kompleksnih kriterijskih funkcijah ta enakost približna in tudi odvisna od vrednosti premika $\\epsilon$. Opazimo tudi, da je ta v naši implementaciji za vse atribute enak, kar ni ravno optimalno in bi bilo bolje, če bi atributi izraženi na isti merski lestvici, torej če bi bili normirani."
   ]
  },
  {
   "cell_type": "markdown",
   "metadata": {},
   "source": [
    "# Linearna regresija"
   ]
  },
  {
   "cell_type": "markdown",
   "metadata": {},
   "source": [
    "Algoritma L-BFGS sedaj uporabimo za linearno regresijo. Za podatke uporabimo zbirko housing."
   ]
  },
  {
   "cell_type": "code",
   "execution_count": 7,
   "metadata": {},
   "outputs": [
    {
     "name": "stdout",
     "output_type": "stream",
     "text": [
      "Examples: 506\n",
      "Attributes: 13\n"
     ]
    }
   ],
   "source": [
    "import Orange\n",
    "data = Orange.data.Table(\"housing\")\n",
    "print(\"Examples: %d\" % len(data))\n",
    "print(\"Attributes: %d\" % len(data.domain.attributes))"
   ]
  },
  {
   "cell_type": "markdown",
   "metadata": {},
   "source": [
    "Orange-ov objekt `data` vsebuje opis spremenljivk ter dve tabeli, tabelo atributov $X$ in vektor razredov $y$. Ker bomo tu potrebovali samo ta dva zapisa, in ker sta ta že v zapisu numpy, uvedemo novi spremenljivki, ki kažeta na te objekte. Matriko $X$ razširimo s kolono enic za računanje $\\theta_0$."
   ]
  },
  {
   "cell_type": "code",
   "execution_count": 8,
   "metadata": {},
   "outputs": [],
   "source": [
    "X, y = data.X, data.Y\n",
    "X = np.column_stack((np.ones(len(X)), X))"
   ]
  },
  {
   "cell_type": "markdown",
   "metadata": {},
   "source": [
    "Izpišemo prva dva primera iz učne množice in dimenzije matrike X in vektorja y."
   ]
  },
  {
   "cell_type": "code",
   "execution_count": 9,
   "metadata": {},
   "outputs": [
    {
     "data": {
      "text/plain": [
       "array([[  1.00000000e+00,   6.32000000e-03,   1.80000000e+01,\n",
       "          2.31000000e+00,   0.00000000e+00,   5.38000000e-01,\n",
       "          6.57500000e+00,   6.52000000e+01,   4.09000000e+00,\n",
       "          1.00000000e+00,   2.96000000e+02,   1.53000000e+01,\n",
       "          3.96900000e+02,   4.98000000e+00],\n",
       "       [  1.00000000e+00,   2.73100000e-02,   0.00000000e+00,\n",
       "          7.07000000e+00,   0.00000000e+00,   4.69000000e-01,\n",
       "          6.42100000e+00,   7.89000000e+01,   4.96710000e+00,\n",
       "          2.00000000e+00,   2.42000000e+02,   1.78000000e+01,\n",
       "          3.96900000e+02,   9.14000000e+00]])"
      ]
     },
     "execution_count": 9,
     "metadata": {},
     "output_type": "execute_result"
    }
   ],
   "source": [
    "X[:2]"
   ]
  },
  {
   "cell_type": "code",
   "execution_count": 10,
   "metadata": {},
   "outputs": [
    {
     "data": {
      "text/plain": [
       "((506, 14), (506,))"
      ]
     },
     "execution_count": 10,
     "metadata": {},
     "output_type": "execute_result"
    }
   ],
   "source": [
    "X.shape, y.shape"
   ]
  },
  {
   "cell_type": "markdown",
   "metadata": {},
   "source": [
    "Za linearno regresijo zapišemo cenovno funkcijo in funkcijo, ki vrača gradient."
   ]
  },
  {
   "cell_type": "code",
   "execution_count": 11,
   "metadata": {},
   "outputs": [],
   "source": [
    "def J(theta, X, y):\n",
    "    return (1 / (2 * len(data))) * np.sum((X.dot(theta) - y)**2)\n",
    "\n",
    "def grad(theta, X, y):\n",
    "    return (1 / len(data)) * (X.dot(theta) - y).dot(X)"
   ]
  },
  {
   "cell_type": "markdown",
   "metadata": {},
   "source": [
    "Preverimo izračun gradienta. Kriterijska funkcija J ima za argumente theto, opis primerov in razredni vektor, grad_approx pa kliče funkcijo, za katero računa gradient, samo z theto. Problem rešimo z novo funkcijo s privzetimi argumenti, ki jo uvedemo s konstruktom lambda."
   ]
  },
  {
   "cell_type": "code",
   "execution_count": 12,
   "metadata": {},
   "outputs": [
    {
     "data": {
      "text/plain": [
       "(array([  3.35213760e+02,   1.72940925e+03,   2.89336210e+03,\n",
       "          4.26879435e+03,   2.25228442e+01,   1.94350160e+02,\n",
       "          2.07986167e+03,   2.47991490e+04,   1.14535166e+03,\n",
       "          3.96326488e+03,   1.53197399e+05,   6.29560114e+03,\n",
       "          1.16701488e+05,   4.70805337e+03]),\n",
       " array([  3.35213760e+02,   1.72940925e+03,   2.89336210e+03,\n",
       "          4.26879435e+03,   2.25228442e+01,   1.94350160e+02,\n",
       "          2.07986167e+03,   2.47991490e+04,   1.14535166e+03,\n",
       "          3.96326488e+03,   1.53197399e+05,   6.29560114e+03,\n",
       "          1.16701488e+05,   4.70805337e+03]),\n",
       " 3.9360624981554793e-08)"
      ]
     },
     "execution_count": 12,
     "metadata": {},
     "output_type": "execute_result"
    }
   ],
   "source": [
    "theta = np.random.rand(X.shape[1])\n",
    "g = grad(theta, X, y)\n",
    "gp = grad_approx(lambda t, X=X, y=y: J(t, X, y), theta)\n",
    "g, gp, np.sum(np.abs(g - gp))"
   ]
  },
  {
   "cell_type": "markdown",
   "metadata": {},
   "source": [
    "Optimizacija"
   ]
  },
  {
   "cell_type": "code",
   "execution_count": 13,
   "metadata": {},
   "outputs": [],
   "source": [
    "theta0 = np.zeros(X.shape[1])"
   ]
  },
  {
   "cell_type": "code",
   "execution_count": 14,
   "metadata": {},
   "outputs": [
    {
     "data": {
      "text/plain": [
       "(array([  3.57967712e+01,  -1.08093081e-01,   4.66882362e-02,\n",
       "          2.13456086e-02,   2.64074512e+00,  -1.77178974e+01,\n",
       "          3.85310804e+00,   8.50473295e-04,  -1.47132044e+00,\n",
       "          3.03650373e-01,  -1.22674708e-02,  -9.38811529e-01,\n",
       "          9.42404540e-03,  -5.22704439e-01]),\n",
       " 10.948023361492092,\n",
       " {'funcalls': 2557,\n",
       "  'grad': array([-0.00088407, -0.00499033,  0.00982557,  0.00709474, -0.00335345,\n",
       "         -0.00076431,  0.0021781 ,  0.03443767,  0.00132969,  0.00575186,\n",
       "          0.30465147,  0.02588604,  0.21551422,  0.0034818 ]),\n",
       "  'nit': 2212,\n",
       "  'task': b'CONVERGENCE: REL_REDUCTION_OF_F_<=_FACTR*EPSMCH',\n",
       "  'warnflag': 0})"
      ]
     },
     "execution_count": 14,
     "metadata": {},
     "output_type": "execute_result"
    }
   ],
   "source": [
    "res = fmin_l_bfgs_b(J, x0=theta0, args=(X, y), fprime=grad)\n",
    "res"
   ]
  },
  {
   "cell_type": "markdown",
   "metadata": {},
   "source": [
    "Tudi tu je, glede na velikost podatkov, konvergenca hitra. Ne vemo sicer, kako dober je model. V tej točki bi morali oceniti napovedno točno modela (prečno preverjanje) ter pregledati, ali je model skladen z domenskim znanjem oziroma ali so uteži atributov ($\\Theta$) smiselne. Za končno uporabo in interpretacijo bi morali podatke ustrezno normalizirati (vsaki koloni odštejemo povprečne vrednosti in delimo s standardno deviacijo)."
   ]
  },
  {
   "cell_type": "markdown",
   "metadata": {},
   "source": [
    "Lahko pa vseeno izračunamo, kako dober je naš model na učnih podatkih. Parametri linearne regresije so shranjeni kot prvi element terke, ki ga vrne ```fmin_l_bfgs_b```."
   ]
  },
  {
   "cell_type": "code",
   "execution_count": 15,
   "metadata": {},
   "outputs": [
    {
     "data": {
      "text/plain": [
       "4.6793211818579179"
      ]
     },
     "execution_count": 15,
     "metadata": {},
     "output_type": "execute_result"
    }
   ],
   "source": [
    "theta = res[0]\n",
    "y_hat = X.dot(theta)\n",
    "rmse = np.sqrt(np.sum((y - y_hat)**2)/len(y))\n",
    "rmse"
   ]
  },
  {
   "cell_type": "markdown",
   "metadata": {},
   "source": [
    "RMSE, kot številka, nam ne pove prav dosti. Poznati moramo domeno. Podatki, ki jih uporabljamo, govorijo o cenah hiš, napaka 4.6 pa v tisočih dolarjih na prvi pogled ne izgleda ravno velika. A kakšna bi bila napaka, če bi namesto našega linearnega napovednega modela uporabili kar povprečno vrednost spremenljivke y iz učne množice?"
   ]
  },
  {
   "cell_type": "code",
   "execution_count": 16,
   "metadata": {},
   "outputs": [
    {
     "data": {
      "text/plain": [
       "9.1880115452782025"
      ]
     },
     "execution_count": 16,
     "metadata": {},
     "output_type": "execute_result"
    }
   ],
   "source": [
    "y_mean = np.sum(y) / len(y)\n",
    "np.sqrt(np.sum((y - y_mean)**2)/len(y))"
   ]
  },
  {
   "cell_type": "markdown",
   "metadata": {},
   "source": [
    "Napaka linearni model na učni množici je torej precej manjša. V statistiki poznamo zanimivo mero, ki ji pravimo [delež razložene variance](https://en.wikipedia.org/wiki/Coefficient_of_determination) oziroma koeficient določenosti. Varianca je mera statistične razpršenosti naključne spremenljivke, oziroma povprečno kvadratno odstopanje od povprečne vrednosti naključne spremenljivke. Pravimo, da dober model za vse primere to odstopanje dobro pojasni oziroma ga napove, torej za vsak posamezen primere dobro napove, kako njegova razredna vrednost odstopa od njenega povprečja. Delež razložene variance zato to odstopanje modela zmeri in ga normira z varianco okoli povprečne vrednosti ter dobljeno vrednost odšteje od 1. Delež razložene ima vrednost 1.0 (100%) za modele, ki napovedujejo brez napak, ter 0.0 (0%) za modele, katerih napoved je kar povprečna vrednost."
   ]
  },
  {
   "cell_type": "code",
   "execution_count": 17,
   "metadata": {},
   "outputs": [
    {
     "data": {
      "text/plain": [
       "0.74062826529815839"
      ]
     },
     "execution_count": 17,
     "metadata": {},
     "output_type": "execute_result"
    }
   ],
   "source": [
    "ss_tot = np.sum((y-y_mean)**2) # total sum of squares\n",
    "ss_res = np.sum((y-y_hat)**2) # residual sum of squares\n",
    "r2 = 1 - ss_res / ss_tot # coefficient of determination\n",
    "r2"
   ]
  },
  {
   "cell_type": "markdown",
   "metadata": {},
   "source": [
    "Naš model razloži 74% variance, kar je soliden rezultat. Popoln model bi razložil 100% variance, slab model, torej tak, ki bi napovedoval kar s povprečnimi vrednostmi, pa na razloži ničesar in je njegov $R^2=0$. "
   ]
  },
  {
   "cell_type": "markdown",
   "metadata": {},
   "source": [
    "## Preiskus delovanja na sintetični podatkih"
   ]
  },
  {
   "cell_type": "markdown",
   "metadata": {},
   "source": [
    "Tu preverimo delovanje linearne regresije, kot smo jo implementirali, na sintetičnih podatkih. In sicer bomo te generirali za funkcijo $y=3x+42$, kjer pa bomo poleg kolone z vrednostjo $x$ dodali tudi kolono z naključnimi števili. Lahko bi takih, naključnih kolon dodali več, a bomo to prepustili bralcu."
   ]
  },
  {
   "cell_type": "code",
   "execution_count": 18,
   "metadata": {},
   "outputs": [],
   "source": [
    "m = 10\n",
    "xs = np.arange(0, m, 1)\n",
    "y = (3 * xs + 42)  + np.random.normal(0, 3, m)\n",
    "X = np.array([[i, np.random.rand()*m] for i in xs])\n",
    "X = np.column_stack((np.ones(len(X)), X))"
   ]
  },
  {
   "cell_type": "code",
   "execution_count": 19,
   "metadata": {},
   "outputs": [
    {
     "data": {
      "text/plain": [
       "(array([ 41.23181417,   2.77063114,   0.37209097]),\n",
       " 0.057351124442747578,\n",
       " {'funcalls': 13,\n",
       "  'grad': array([ -3.36323214e-09,  -1.73500777e-08,  -2.30144741e-08]),\n",
       "  'nit': 11,\n",
       "  'task': b'CONVERGENCE: NORM_OF_PROJECTED_GRADIENT_<=_PGTOL',\n",
       "  'warnflag': 0})"
      ]
     },
     "execution_count": 19,
     "metadata": {},
     "output_type": "execute_result"
    }
   ],
   "source": [
    "theta0 = np.zeros(X.shape[1])\n",
    "res = fmin_l_bfgs_b(J, x0=theta0, args=(X, y), fprime=grad)\n",
    "res"
   ]
  },
  {
   "cell_type": "code",
   "execution_count": 20,
   "metadata": {},
   "outputs": [
    {
     "data": {
      "image/png": "[encoded data removed]",
      "text/plain": [
       "<matplotlib.figure.Figure at 0x10e0de710>"
      ]
     },
     "metadata": {},
     "output_type": "display_data"
    }
   ],
   "source": [
    "plt.plot(X[:, 1], y, \"o\")\n",
    "p = np.array([[1, 0, 0], [1, 10, 0]])\n",
    "plt.plot(p[:, 1], p.dot(res[0]));"
   ]
  },
  {
   "cell_type": "markdown",
   "metadata": {},
   "source": [
    "Dela. Tudi parametre modela kar dobro zadane, glede na to, da je primerov samo 10. Z zvišanjem števila primerov dobimo še boljo oceno parametrov. Poskusi!"
   ]
  }
 ],
 "metadata": {
  "kernelspec": {
   "display_name": "Python 3",
   "language": "python",
   "name": "python3"
  },
  "language_info": {
   "codemirror_mode": {
    "name": "ipython",
    "version": 3
   },
   "file_extension": ".py",
   "mimetype": "text/x-python",
   "name": "python",
   "nbconvert_exporter": "python",
   "pygments_lexer": "ipython3",
   "version": "3.6.2"
  }
 },
 "nbformat": 4,
 "nbformat_minor": 1
}
